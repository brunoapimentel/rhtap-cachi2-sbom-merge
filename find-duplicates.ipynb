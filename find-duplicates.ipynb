{
 "cells": [
  {
   "cell_type": "code",
   "execution_count": 85,
   "metadata": {},
   "outputs": [],
   "source": [
    "import json\n",
    "\n",
    "def get_sbom_components(path: str) -> dict[str, dict]:\n",
    "    def was_found_by_cachi2(component):\n",
    "        for property in component[\"properties\"]:\n",
    "            if property[\"value\"] == \"cachi2\":\n",
    "                return True\n",
    "\n",
    "        return False\n",
    "\n",
    "    with open(f\"{path}/merged.bom.json\") as file:\n",
    "        sbom = json.load(file)\n",
    "\n",
    "    cachi2_components = {}\n",
    "    syft_components = {}\n",
    "\n",
    "    # We'll use only the name to try to find duplicates,\n",
    "    # since Syft reports versions for Pip and NPM\n",
    "    # HTTPS/VCS dependencies very differently from Cachi2\n",
    "    for component in sbom[\"components\"]:\n",
    "        if was_found_by_cachi2(component):\n",
    "            cachi2_components[component[\"name\"]] = component\n",
    "        else:\n",
    "            syft_components[component[\"name\"]] = component\n",
    "\n",
    "    return cachi2_components, syft_components"
   ]
  },
  {
   "cell_type": "code",
   "execution_count": 86,
   "metadata": {},
   "outputs": [],
   "source": [
    "# https://github.com/cachito-testing/cachito-npm-with-deps/commit/565aba4c7f210c6196c1b522e2279f853f77d6d2\n",
    "cachi2_components, syft_components = get_sbom_components(\"npm/cachito-npm-with-deps\")\n",
    "\n",
    "for name in syft_components:\n",
    "    if name in cachi2_components:\n",
    "        print(name)\n",
    "\n",
    "# no duplicates found"
   ]
  },
  {
   "cell_type": "code",
   "execution_count": 87,
   "metadata": {},
   "outputs": [],
   "source": [
    "# https://github.com/brunoapimentel/sample-nodejs-app/commit/94cec5c1ef002efb0edd341a14f408843a105465\n",
    "cachi2_components, syft_components = get_sbom_components(\"npm/sample-nodejs-app\")\n",
    "\n",
    "for name in syft_components:\n",
    "    if name in cachi2_components:\n",
    "        print(name)\n",
    "\n",
    "# no duplicates found"
   ]
  },
  {
   "cell_type": "code",
   "execution_count": 88,
   "metadata": {},
   "outputs": [
    {
     "name": "stdout",
     "output_type": "stream",
     "text": [
      "Duplicates found by name: \n",
      "urllib3\n",
      "syft version: 1.26.5\n",
      "cachi2 version: 1.21.1\n"
     ]
    }
   ],
   "source": [
    "# https://github.com/brunoapimentel/pip-e2e-test/commit/294df352deed835cf703ae8a799926418ae5fd3b\n",
    "cachi2_components, syft_components = get_sbom_components(\"pip/pip-e2e-test\")\n",
    "\n",
    "# Remove components that Syft reports twice (probably a bug)\n",
    "filtered_syft_components = filter(\n",
    "    lambda c: \"%20\\\\\" not in c.get(\"purl\", \"\"),\n",
    "    syft_components.values()\n",
    ")\n",
    "\n",
    "syft_components = {component[\"name\"]: component for component in filtered_syft_components}\n",
    "\n",
    "print(\"Duplicates found by name: \")\n",
    "for name in syft_components:\n",
    "    if name in cachi2_components:\n",
    "        print(name)\n",
    "        print(\"syft version: \" + syft_components[name][\"version\"])\n",
    "        print(\"cachi2 version: \" + cachi2_components[name][\"version\"])\n",
    "\n",
    "# Syft reports two distinct versions of urllib3\n",
    "# So the package is not actually duplicated"
   ]
  },
  {
   "cell_type": "code",
   "execution_count": 89,
   "metadata": {},
   "outputs": [
    {
     "name": "stdout",
     "output_type": "stream",
     "text": [
      "Duplicates found by name: \n",
      "cachi2\n",
      "typing_extensions\n",
      "\n",
      "cachi2 version\n",
      "reported by syft: 0.0.post1+gdfd2180.d20230704\n",
      "reported by cachi2: 0.0.1\n",
      "\n",
      "typing_extensions purl\n",
      "reported by syft: pkg:pypi/typing_extensions@4.7.1\n",
      "reported by cachi2: pkg:pypi/typing-extensions@4.7.1\n"
     ]
    }
   ],
   "source": [
    "# https://github.com/containerbuildsystem/cachi2/commit/fc0d6079c2dc9b2a491c0848e550ad3509986110\n",
    "cachi2_components, syft_components = get_sbom_components(\"pip/cachi2\")\n",
    "\n",
    "# Remove components that Syft reports twice (probably a bug)\n",
    "filtered_syft_components = filter(\n",
    "    lambda c: \"%20\\\\\" not in c.get(\"purl\", \"\"),\n",
    "    syft_components.values()\n",
    ")\n",
    "\n",
    "syft_components = {component[\"name\"]: component for component in filtered_syft_components}\n",
    "\n",
    "print(\"Duplicates found by name: \")\n",
    "for name in syft_components:\n",
    "    if name in cachi2_components:\n",
    "        print(name)\n",
    "\n",
    "print()\n",
    "\n",
    "# Syft creates a pseudo-version for the main package\n",
    "print(\"cachi2 version\")\n",
    "print(\"reported by syft: \" + syft_components[\"cachi2\"][\"version\"])\n",
    "print(\"reported by cachi2: \" + cachi2_components[\"cachi2\"][\"version\"])\n",
    "\n",
    "print()\n",
    "\n",
    "# Cachi2 uses a dash instead of an underscore in the purl\n",
    "print(\"typing_extensions purl\")\n",
    "print(\"reported by syft: \" + syft_components[\"typing_extensions\"][\"purl\"])\n",
    "print(\"reported by cachi2: \" + cachi2_components[\"typing_extensions\"][\"purl\"])"
   ]
  },
  {
   "cell_type": "code",
   "execution_count": 90,
   "metadata": {},
   "outputs": [
    {
     "name": "stdout",
     "output_type": "stream",
     "text": [
      "Duplicates found by name: \n",
      "go.opencensus.io\n",
      "\n",
      "go.opencensus.io purl\n",
      "reported by syft: pkg:golang/go.opencensus.io/go.opencensus.io@v0.24.0\n",
      "reported by cachi2: pkg:golang/go.opencensus.io@v0.24.0?type=package\n"
     ]
    }
   ],
   "source": [
    "# https://github.com/cachito-testing/gomod-pandemonium/commit/0c6890c3280a00271891f4bd04705a56151428f0\n",
    "cachi2_components, syft_components = get_sbom_components(\"golang/build-service\")\n",
    "\n",
    "# since there are no specific handling for file/vcs dependencies\n",
    "# we'll also consider the version for finding duplicates\n",
    "print(\"Duplicates found by name: \")\n",
    "for name in syft_components:\n",
    "    if name in cachi2_components \\\n",
    "        and cachi2_components[name][\"version\"] == syft_components[name][\"version\"]:\n",
    "        print(name)\n",
    "\n",
    "print()\n",
    "\n",
    "# Syft duplicates the name go.opencensus.io in the purl\n",
    "print(\"go.opencensus.io purl\")\n",
    "print(\"reported by syft: \" + syft_components[\"go.opencensus.io\"][\"purl\"])\n",
    "print(\"reported by cachi2: \" + cachi2_components[\"go.opencensus.io\"][\"purl\"])"
   ]
  },
  {
   "cell_type": "code",
   "execution_count": 91,
   "metadata": {},
   "outputs": [],
   "source": [
    "# https://github.com/redhat-appstudio/build-service/commit/d1a9e858489d1515621398fb02942da068f1c956\n",
    "cachi2_components, syft_components = get_sbom_components(\"golang/gomod-pandemonium\")\n",
    "\n",
    "# since there are no specific handling for file/vcs dependencies\n",
    "# we'll also consider the version for finding duplicates\n",
    "for name in syft_components:\n",
    "    if name in cachi2_components \\\n",
    "        and cachi2_components[name][\"version\"] == syft_components[name][\"version\"]:\n",
    "        print(name)\n",
    "\n",
    "# no duplicates found"
   ]
  }
 ],
 "metadata": {
  "kernelspec": {
   "display_name": "Python 3.11.3 64-bit",
   "language": "python",
   "name": "python3"
  },
  "language_info": {
   "codemirror_mode": {
    "name": "ipython",
    "version": 3
   },
   "file_extension": ".py",
   "mimetype": "text/x-python",
   "name": "python",
   "nbconvert_exporter": "python",
   "pygments_lexer": "ipython3",
   "version": "3.11.3"
  },
  "orig_nbformat": 4,
  "vscode": {
   "interpreter": {
    "hash": "e7370f93d1d0cde622a1f8e1c04877d8463912d04d973331ad4851f04de6915a"
   }
  }
 },
 "nbformat": 4,
 "nbformat_minor": 2
}
