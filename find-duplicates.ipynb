{
 "cells": [
  {
   "cell_type": "code",
   "execution_count": 2,
   "metadata": {},
   "outputs": [],
   "source": [
    "import json\n",
    "\n",
    "def get_sbom_components(path: str) -> dict[str, dict]:\n",
    "    def was_found_by_cachi2(component):\n",
    "        for property in component[\"properties\"]:\n",
    "            if property[\"value\"] == \"cachi2\":\n",
    "                return True\n",
    "\n",
    "        return False\n",
    "\n",
    "    with open(f\"{path}/merged.bom.json\") as file:\n",
    "        sbom = json.load(file)\n",
    "\n",
    "    cachi2_components = {}\n",
    "    syft_components = {}\n",
    "\n",
    "    # We'll use only the name to try to find duplicates,\n",
    "    # since Syft reports versions for Pip and NPM\n",
    "    # HTTPS/VCS dependencies very differently from Cachi2\n",
    "    for component in sbom[\"components\"]:\n",
    "        if was_found_by_cachi2(component):\n",
    "            cachi2_components[component[\"name\"]] = component\n",
    "        else:\n",
    "            syft_components[component[\"name\"]] = component\n",
    "\n",
    "    return cachi2_components, syft_components"
   ]
  },
  {
   "cell_type": "code",
   "execution_count": 3,
   "metadata": {},
   "outputs": [],
   "source": [
    "# https://github.com/cachito-testing/cachito-npm-with-deps/commit/565aba4c7f210c6196c1b522e2279f853f77d6d2\n",
    "cachi2_components, syft_components = get_sbom_components(\"npm/cachito-npm-with-deps\")\n",
    "\n",
    "for name in syft_components:\n",
    "    if name in cachi2_components:\n",
    "        print(name)\n",
    "\n",
    "# no duplicates found"
   ]
  },
  {
   "cell_type": "code",
   "execution_count": 4,
   "metadata": {},
   "outputs": [],
   "source": [
    "# https://github.com/brunoapimentel/sample-nodejs-app/commit/94cec5c1ef002efb0edd341a14f408843a105465\n",
    "cachi2_components, syft_components = get_sbom_components(\"npm/sample-nodejs-app\")\n",
    "\n",
    "for name in syft_components:\n",
    "    if name in cachi2_components:\n",
    "        print(name)\n",
    "\n",
    "# no duplicates found"
   ]
  },
  {
   "cell_type": "code",
   "execution_count": 5,
   "metadata": {},
   "outputs": [
    {
     "name": "stdout",
     "output_type": "stream",
     "text": [
      "Duplicates found by name: \n",
      "urllib3\n",
      "syft version: 1.26.5\n",
      "cachi2 version: 1.21.1\n"
     ]
    }
   ],
   "source": [
    "# https://github.com/brunoapimentel/pip-e2e-test/commit/294df352deed835cf703ae8a799926418ae5fd3b\n",
    "cachi2_components, syft_components = get_sbom_components(\"pip/pip-e2e-test\")\n",
    "\n",
    "# Remove components that Syft reports twice (probably a bug)\n",
    "filtered_syft_components = filter(\n",
    "    lambda c: \"%20\\\\\" not in c.get(\"purl\", \"\"),\n",
    "    syft_components.values()\n",
    ")\n",
    "\n",
    "syft_components = {component[\"name\"]: component for component in filtered_syft_components}\n",
    "\n",
    "print(\"Duplicates found by name: \")\n",
    "for name in syft_components:\n",
    "    if name in cachi2_components:\n",
    "        print(name)\n",
    "        print(\"syft version: \" + syft_components[name][\"version\"])\n",
    "        print(\"cachi2 version: \" + cachi2_components[name][\"version\"])\n",
    "\n",
    "# Syft reports two distinct versions of urllib3\n",
    "# So the package is not actually duplicated"
   ]
  },
  {
   "cell_type": "code",
   "execution_count": 6,
   "metadata": {},
   "outputs": [
    {
     "name": "stdout",
     "output_type": "stream",
     "text": [
      "Duplicates found by name: \n",
      "cachi2\n",
      "typing_extensions\n",
      "\n",
      "cachi2 version\n",
      "reported by syft: 0.0.post1+gdfd2180.d20230704\n",
      "reported by cachi2: 0.0.1\n",
      "\n",
      "typing_extensions purl\n",
      "reported by syft: pkg:pypi/typing_extensions@4.7.1\n",
      "reported by cachi2: pkg:pypi/typing-extensions@4.7.1\n"
     ]
    }
   ],
   "source": [
    "# https://github.com/containerbuildsystem/cachi2/commit/fc0d6079c2dc9b2a491c0848e550ad3509986110\n",
    "cachi2_components, syft_components = get_sbom_components(\"pip/cachi2\")\n",
    "\n",
    "# Remove components that Syft reports twice (probably a bug)\n",
    "filtered_syft_components = filter(\n",
    "    lambda c: \"%20\\\\\" not in c.get(\"purl\", \"\"),\n",
    "    syft_components.values()\n",
    ")\n",
    "\n",
    "syft_components = {component[\"name\"]: component for component in filtered_syft_components}\n",
    "\n",
    "print(\"Duplicates found by name: \")\n",
    "for name in syft_components:\n",
    "    if name in cachi2_components:\n",
    "        print(name)\n",
    "\n",
    "print()\n",
    "\n",
    "# Syft creates a pseudo-version for the main package\n",
    "print(\"cachi2 version\")\n",
    "print(\"reported by syft: \" + syft_components[\"cachi2\"][\"version\"])\n",
    "print(\"reported by cachi2: \" + cachi2_components[\"cachi2\"][\"version\"])\n",
    "\n",
    "print()\n",
    "\n",
    "# Cachi2 uses a dash instead of an underscore in the purl\n",
    "print(\"typing_extensions purl\")\n",
    "print(\"reported by syft: \" + syft_components[\"typing_extensions\"][\"purl\"])\n",
    "print(\"reported by cachi2: \" + cachi2_components[\"typing_extensions\"][\"purl\"])"
   ]
  },
  {
   "cell_type": "code",
   "execution_count": 7,
   "metadata": {},
   "outputs": [
    {
     "name": "stdout",
     "output_type": "stream",
     "text": [
      "Duplicates found by name: \n",
      "go.opencensus.io\n",
      "\n",
      "go.opencensus.io purl\n",
      "reported by syft: pkg:golang/go.opencensus.io/go.opencensus.io@v0.24.0\n",
      "reported by cachi2: pkg:golang/go.opencensus.io@v0.24.0?type=package\n"
     ]
    }
   ],
   "source": [
    "# https://github.com/cachito-testing/gomod-pandemonium/commit/0c6890c3280a00271891f4bd04705a56151428f0\n",
    "cachi2_components, syft_components = get_sbom_components(\"golang/build-service\")\n",
    "\n",
    "# since there are no specific handling for file/vcs dependencies\n",
    "# we'll also consider the version for finding duplicates\n",
    "print(\"Duplicates found by name: \")\n",
    "for name in syft_components:\n",
    "    if name in cachi2_components \\\n",
    "        and cachi2_components[name][\"version\"] == syft_components[name][\"version\"]:\n",
    "        print(name)\n",
    "\n",
    "print()\n",
    "\n",
    "# Syft duplicates the name go.opencensus.io in the purl\n",
    "print(\"go.opencensus.io purl\")\n",
    "print(\"reported by syft: \" + syft_components[\"go.opencensus.io\"][\"purl\"])\n",
    "print(\"reported by cachi2: \" + cachi2_components[\"go.opencensus.io\"][\"purl\"])"
   ]
  },
  {
   "cell_type": "code",
   "execution_count": 8,
   "metadata": {},
   "outputs": [],
   "source": [
    "# https://github.com/redhat-appstudio/build-service/commit/d1a9e858489d1515621398fb02942da068f1c956\n",
    "cachi2_components, syft_components = get_sbom_components(\"golang/gomod-pandemonium\")\n",
    "\n",
    "# since there are no specific handling for file/vcs dependencies\n",
    "# we'll also consider the version for finding duplicates\n",
    "for name in syft_components:\n",
    "    if name in cachi2_components \\\n",
    "        and cachi2_components[name][\"version\"] == syft_components[name][\"version\"]:\n",
    "        print(name)\n",
    "\n",
    "# no duplicates found"
   ]
  },
  {
   "cell_type": "code",
   "execution_count": 9,
   "metadata": {},
   "outputs": [
    {
     "ename": "FileNotFoundError",
     "evalue": "[Errno 2] No such file or directory: '~/Downloads/merged.bom.json'",
     "output_type": "error",
     "traceback": [
      "\u001b[0;31m---------------------------------------------------------------------------\u001b[0m",
      "\u001b[0;31mFileNotFoundError\u001b[0m                         Traceback (most recent call last)",
      "Cell \u001b[0;32mIn[9], line 2\u001b[0m\n\u001b[1;32m      1\u001b[0m \u001b[38;5;66;03m# https://github.com/redhat-appstudio/build-service/commit/d1a9e858489d1515621398fb02942da068f1c956\u001b[39;00m\n\u001b[0;32m----> 2\u001b[0m cachi2_components, syft_components \u001b[38;5;241m=\u001b[39m \u001b[43mget_sbom_components\u001b[49m\u001b[43m(\u001b[49m\u001b[38;5;124;43m\"\u001b[39;49m\u001b[38;5;124;43m~/Downloads\u001b[39;49m\u001b[38;5;124;43m\"\u001b[39;49m\u001b[43m)\u001b[49m\n\u001b[1;32m      4\u001b[0m \u001b[38;5;66;03m# since there are no specific handling for file/vcs dependencies\u001b[39;00m\n\u001b[1;32m      5\u001b[0m \u001b[38;5;66;03m# we'll also consider the version for finding duplicates\u001b[39;00m\n\u001b[1;32m      6\u001b[0m \u001b[38;5;28;01mfor\u001b[39;00m name \u001b[38;5;129;01min\u001b[39;00m syft_components:\n",
      "Cell \u001b[0;32mIn[2], line 11\u001b[0m, in \u001b[0;36mget_sbom_components\u001b[0;34m(path)\u001b[0m\n\u001b[1;32m      7\u001b[0m             \u001b[38;5;28;01mreturn\u001b[39;00m \u001b[38;5;28;01mTrue\u001b[39;00m\n\u001b[1;32m      9\u001b[0m     \u001b[38;5;28;01mreturn\u001b[39;00m \u001b[38;5;28;01mFalse\u001b[39;00m\n\u001b[0;32m---> 11\u001b[0m \u001b[38;5;28;01mwith\u001b[39;00m \u001b[38;5;28;43mopen\u001b[39;49m\u001b[43m(\u001b[49m\u001b[38;5;124;43mf\u001b[39;49m\u001b[38;5;124;43m\"\u001b[39;49m\u001b[38;5;132;43;01m{\u001b[39;49;00m\u001b[43mpath\u001b[49m\u001b[38;5;132;43;01m}\u001b[39;49;00m\u001b[38;5;124;43m/merged.bom.json\u001b[39;49m\u001b[38;5;124;43m\"\u001b[39;49m\u001b[43m)\u001b[49m \u001b[38;5;28;01mas\u001b[39;00m file:\n\u001b[1;32m     12\u001b[0m     sbom \u001b[38;5;241m=\u001b[39m json\u001b[38;5;241m.\u001b[39mload(file)\n\u001b[1;32m     14\u001b[0m cachi2_components \u001b[38;5;241m=\u001b[39m {}\n",
      "File \u001b[0;32m~/.local/lib/python3.11/site-packages/IPython/core/interactiveshell.py:282\u001b[0m, in \u001b[0;36m_modified_open\u001b[0;34m(file, *args, **kwargs)\u001b[0m\n\u001b[1;32m    275\u001b[0m \u001b[39mif\u001b[39;00m file \u001b[39min\u001b[39;00m {\u001b[39m0\u001b[39m, \u001b[39m1\u001b[39m, \u001b[39m2\u001b[39m}:\n\u001b[1;32m    276\u001b[0m     \u001b[39mraise\u001b[39;00m \u001b[39mValueError\u001b[39;00m(\n\u001b[1;32m    277\u001b[0m         \u001b[39mf\u001b[39m\u001b[39m\"\u001b[39m\u001b[39mIPython won\u001b[39m\u001b[39m'\u001b[39m\u001b[39mt let you open fd=\u001b[39m\u001b[39m{\u001b[39;00mfile\u001b[39m}\u001b[39;00m\u001b[39m by default \u001b[39m\u001b[39m\"\u001b[39m\n\u001b[1;32m    278\u001b[0m         \u001b[39m\"\u001b[39m\u001b[39mas it is likely to crash IPython. If you know what you are doing, \u001b[39m\u001b[39m\"\u001b[39m\n\u001b[1;32m    279\u001b[0m         \u001b[39m\"\u001b[39m\u001b[39myou can use builtins\u001b[39m\u001b[39m'\u001b[39m\u001b[39m open.\u001b[39m\u001b[39m\"\u001b[39m\n\u001b[1;32m    280\u001b[0m     )\n\u001b[0;32m--> 282\u001b[0m \u001b[39mreturn\u001b[39;00m io_open(file, \u001b[39m*\u001b[39;49margs, \u001b[39m*\u001b[39;49m\u001b[39m*\u001b[39;49mkwargs)\n",
      "\u001b[0;31mFileNotFoundError\u001b[0m: [Errno 2] No such file or directory: '~/Downloads/merged.bom.json'"
     ]
    }
   ],
   "source": [
    "# https://github.com/redhat-appstudio/build-service/commit/d1a9e858489d1515621398fb02942da068f1c956\n",
    "cachi2_components, syft_components = get_sbom_components(\"/home/bpimente/Downloads\")\n",
    "\n",
    "# since there are no specific handling for file/vcs dependencies\n",
    "# we'll also consider the version for finding duplicates\n",
    "for name in syft_components:\n",
    "    if name in cachi2_components \\\n",
    "        and cachi2_components[name][\"version\"] == syft_components[name][\"version\"]:\n",
    "        print(name)\n",
    "\n",
    "# no duplicates found"
   ]
  }
 ],
 "metadata": {
  "kernelspec": {
   "display_name": "Python 3.11.3 64-bit",
   "language": "python",
   "name": "python3"
  },
  "language_info": {
   "codemirror_mode": {
    "name": "ipython",
    "version": 3
   },
   "file_extension": ".py",
   "mimetype": "text/x-python",
   "name": "python",
   "nbconvert_exporter": "python",
   "pygments_lexer": "ipython3",
   "version": "3.11.3"
  },
  "orig_nbformat": 4,
  "vscode": {
   "interpreter": {
    "hash": "e7370f93d1d0cde622a1f8e1c04877d8463912d04d973331ad4851f04de6915a"
   }
  }
 },
 "nbformat": 4,
 "nbformat_minor": 2
}
