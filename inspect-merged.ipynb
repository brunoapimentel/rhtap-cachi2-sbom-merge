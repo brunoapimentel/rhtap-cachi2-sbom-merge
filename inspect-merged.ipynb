{
 "cells": [
  {
   "cell_type": "code",
   "execution_count": 30,
   "metadata": {},
   "outputs": [],
   "source": [
    "import json\n",
    "\n",
    "path = \"gomod-pandemonium\"\n",
    "\n",
    "with open(f\"{path}/merged.bom.json\") as file:\n",
    "    sbom = json.load(file)"
   ]
  },
  {
   "cell_type": "code",
   "execution_count": 31,
   "metadata": {},
   "outputs": [],
   "source": [
    "def was_found_by_cachi2(component):\n",
    "    for property in component[\"properties\"]:\n",
    "        if property[\"value\"] == \"cachi2\":\n",
    "            return True\n",
    "\n",
    "    return False\n",
    "\n",
    "def get_id(component):\n",
    "    return component[\"name\"] + \"@\" + component.get(\"version\", \"\")"
   ]
  },
  {
   "cell_type": "code",
   "execution_count": 32,
   "metadata": {},
   "outputs": [],
   "source": [
    "cachi2_components = {}\n",
    "syft_components = {}\n",
    "\n",
    "for component in sbom[\"components\"]:\n",
    "    if was_found_by_cachi2(component):\n",
    "        cachi2_components[get_id(component)] = component\n",
    "    else:\n",
    "        syft_components[get_id(component)] = component"
   ]
  },
  {
   "cell_type": "code",
   "execution_count": 33,
   "metadata": {},
   "outputs": [
    {
     "name": "stdout",
     "output_type": "stream",
     "text": [
      "go.opencensus.io@v0.24.0\n"
     ]
    }
   ],
   "source": [
    "for component in syft_components.values():\n",
    "    id = get_id(component) \n",
    "    if id in cachi2_components:\n",
    "        print(id)"
   ]
  }
 ],
 "metadata": {
  "kernelspec": {
   "display_name": "Python 3.11.3 64-bit",
   "language": "python",
   "name": "python3"
  },
  "language_info": {
   "codemirror_mode": {
    "name": "ipython",
    "version": 3
   },
   "file_extension": ".py",
   "mimetype": "text/x-python",
   "name": "python",
   "nbconvert_exporter": "python",
   "pygments_lexer": "ipython3",
   "version": "3.11.3"
  },
  "orig_nbformat": 4,
  "vscode": {
   "interpreter": {
    "hash": "e7370f93d1d0cde622a1f8e1c04877d8463912d04d973331ad4851f04de6915a"
   }
  }
 },
 "nbformat": 4,
 "nbformat_minor": 2
}
